{
 "cells": [
  {
   "cell_type": "code",
   "execution_count": 3,
   "metadata": {},
   "outputs": [
    {
     "data": {
      "text/plain": [
       "'\\n題目 : \\n\\n在速度較慢的時候，可以先從哪邊開始檢查？\\n1) 檔案格式,\\n2) 儘量用內建函式\\n3) 向量化的資料處理\\n    \\n資料過大時應採取什麼方式讓記憶體占用量下降？\\n1) 如果數據不須負值，整數型態int改成uint\\n2) 如果數據不須非常高的精準度，浮點數型態float64改成float32\\n'"
      ]
     },
     "execution_count": 3,
     "metadata": {},
     "output_type": "execute_result"
    }
   ],
   "source": [
    "'''\n",
    "題目 : \n",
    "\n",
    "在速度較慢的時候，可以先從哪邊開始檢查？\n",
    "1) 檔案格式,\n",
    "2) 儘量用內建函式\n",
    "3) 向量化的資料處理\n",
    "    \n",
    "資料過大時應採取什麼方式讓記憶體占用量下降？\n",
    "1) 如果數據不須負值，整數型態int改成uint\n",
    "2) 如果數據不須非常高的精準度，浮點數型態float64改成float32\n",
    "'''"
   ]
  },
  {
   "cell_type": "code",
   "execution_count": null,
   "metadata": {},
   "outputs": [],
   "source": []
  }
 ],
 "metadata": {
  "kernelspec": {
   "display_name": "Python 3",
   "language": "python",
   "name": "python3"
  },
  "language_info": {
   "codemirror_mode": {
    "name": "ipython",
    "version": 3
   },
   "file_extension": ".py",
   "mimetype": "text/x-python",
   "name": "python",
   "nbconvert_exporter": "python",
   "pygments_lexer": "ipython3",
   "version": "3.7.1"
  }
 },
 "nbformat": 4,
 "nbformat_minor": 2
}
